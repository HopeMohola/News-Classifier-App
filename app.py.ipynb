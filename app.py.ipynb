{
 "cells": [
  {
   "cell_type": "code",
   "execution_count": 3,
   "id": "ae0627ec-9610-402d-b2be-684077d2340b",
   "metadata": {},
   "outputs": [],
   "source": [
    "import streamlit as st\n",
    "import joblib\n",
    "import numpy as np\n",
    "from sklearn.metrics import classification_report\n",
    "\n",
    "# Load the saved models and vectorizer\n",
    "log_reg_model = joblib.load(\"optimized_log_reg_model.pkl\")\n",
    "tfidf_vectorizer = joblib.load(\"optimized_tfidf_vectorizer.pkl\")\n",
    "\n",
    "# Set up the Streamlit app interface\n",
    "st.title(\"News Categorization Model Comparison\")\n",
    "\n",
    "# Display the performance metrics of the models\n",
    "st.header(\"Model Performance Comparison\")\n",
    "\n",
    "st.subheader(\"Accuracy Comparison\")\n",
    "accuracy_scores = {\n",
    "    \"Logistic Regression\": 0.85,  # Replace with actual results\n",
    "    \"Random Forest\": 0.82,\n",
    "    \"Naive Bayes\": 0.75,\n",
    "    \"SVM\": 0.88\n",
    "}\n",
    "for model, accuracy in accuracy_scores.items():\n",
    "    st.write(f\"{model}: {accuracy:.4f}\")\n",
    "\n",
    "# Allow the user to input text for prediction\n",
    "st.header(\"Enter News Content for Prediction\")\n",
    "\n",
    "user_input = st.text_area(\"Enter the news headline/content:\")\n",
    "\n",
    "if user_input:\n",
    "    # Vectorize the user input\n",
    "    input_tfidf = tfidf_vectorizer.transform([user_input])\n",
    "\n",
    "    # Make predictions\n",
    "    prediction = log_reg_model.predict(input_tfidf)  # Assuming Logistic Regression is the best model\n",
    "    prediction_prob = log_reg_model.predict_proba(input_tfidf)\n",
    "\n",
    "    st.write(f\"Predicted Category: {prediction[0]}\")\n",
    "    st.write(f\"Prediction Confidence: {np.max(prediction_prob) * 100:.2f}%\")\n",
    "\n",
    "# Display the classification report if checkbox is selected\n",
    "if st.checkbox(\"Show Classification Report\"):\n",
    "    # Assuming you have the test data available in your environment\n",
    "    y_test_pred = log_reg_model.predict(X_test_tfidf)  # Replace X_test_tfidf with your actual test data\n",
    "    report = classification_report(y_test, y_test_pred)\n",
    "    st.text(report)\n"
   ]
  },
  {
   "cell_type": "code",
   "execution_count": null,
   "id": "48c4b5f3-ef38-4c3f-8d57-fa5d3055ca0d",
   "metadata": {},
   "outputs": [],
   "source": []
  }
 ],
 "metadata": {
  "kernelspec": {
   "display_name": "Python 3 (ipykernel)",
   "language": "python",
   "name": "python3"
  },
  "language_info": {
   "codemirror_mode": {
    "name": "ipython",
    "version": 3
   },
   "file_extension": ".py",
   "mimetype": "text/x-python",
   "name": "python",
   "nbconvert_exporter": "python",
   "pygments_lexer": "ipython3",
   "version": "3.12.4"
  }
 },
 "nbformat": 4,
 "nbformat_minor": 5
}
